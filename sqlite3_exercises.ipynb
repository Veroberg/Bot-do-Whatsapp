{
  "nbformat": 4,
  "nbformat_minor": 0,
  "metadata": {
    "kernelspec": {
      "display_name": "Python 3",
      "language": "python",
      "name": "python3"
    },
    "language_info": {
      "codemirror_mode": {
        "name": "ipython",
        "version": 3
      },
      "file_extension": ".py",
      "mimetype": "text/x-python",
      "name": "python",
      "nbconvert_exporter": "python",
      "pygments_lexer": "ipython3",
      "version": "3.7.9"
    },
    "colab": {
      "name": "sqlite3-exercises-empty.ipynb",
      "provenance": [],
      "collapsed_sections": []
    }
  },
  "cells": [
    {
      "cell_type": "markdown",
      "metadata": {
        "id": "L7OWhvYUqcZt"
      },
      "source": [
        "<img src=\"https://i.imgur.com/JsMvGnP.pngwidth\" height=\"30\">  \n",
        "<p style=\"color: #2e6c80; text-align: center;\"><strong>"
      ]
    },
    {
      "cell_type": "markdown",
      "metadata": {
        "id": "VIoXl5ZfqcZ7"
      },
      "source": [
        "## Exercícios de SQL"
      ]
    },
    {
      "cell_type": "markdown",
      "metadata": {
        "id": "qxHMH2NSqcZ8"
      },
      "source": [
        "Essa série de exercícios tem como objetivo o treino da utilização da biblioteca sqlite3, que permite a utilização da sintaxe de SQL para realizar queries. \\\n",
        "A base de dados utilizada é a [Brazilian E-Commerce Public Dataset by Olist]( https://www.kaggle.com/olistbr/brazilian-ecommerce), disponível publicamente no Kaggle. \\\n",
        "Sugerimos que, na medida do possível, utilize apenas queries em SQL, evitando a utilização de outras bibliotecas que nesta etapa do curso você já pode estar mais familiarizado(a). \\\n",
        "A exceção é a utilização do pandas quando for solicitada a visualização dos dados. \\\n",
        "[Documentação da sqlite3](https://docs.python.org/3/library/sqlite3.html)"
      ]
    },
    {
      "cell_type": "markdown",
      "metadata": {
        "id": "ja6sc5W5qcZ9"
      },
      "source": [
        "Link para a base de dados: https://drive.google.com/file/d/1qfyrOegq9jJXTvSIU2yzsQvOepQCHRte/view?usp=sharing. \\\n",
        "Aconselhamos a baixá-la para trabalhar localmente no Jupyter Notebook. Recomendamos também salvá-la na mesma pasta em que se encontra o arquivo do Jupyter."
      ]
    },
    {
      "cell_type": "markdown",
      "metadata": {
        "id": "PuQiPpf2qcZ-"
      },
      "source": [
        "### Esquema \n",
        "\n",
        "<img src=\"https://i.imgur.com/Be6l4EO.png\" alt=\"Kitten\"\n",
        "\ttitle=\"A cute kitten\" width=\"600\" />\n",
        "    \n",
        "Fonte: https://www.kaggle.com/olistbr/brazilian-ecommerce"
      ]
    },
    {
      "cell_type": "markdown",
      "metadata": {
        "id": "DSgM8hhaqcZ-"
      },
      "source": [
        "**Como funcionarão os exercícios?** \\\n",
        "Os primeiros exercícios terão parte do código completo. Você precisará encontrar a inscrição **...** e substituí-la por um código que realize a ação indicada. \\\n",
        "Exemplo: \\\n",
        "**0 - Importe a biblioteca numpy como np:** \\\n",
        "Seu código estará assim: \\\n",
        "```import ... as np``` \\\n",
        "Você deve deixá-lo assim: \\\n",
        "```import numpy as np``` \n",
        "\n",
        "\n",
        "A partir de um certo ponto, o código estará em branco, fazendo com que você necessite escrevê-lo integralmente."
      ]
    },
    {
      "cell_type": "markdown",
      "metadata": {
        "id": "Vt7Pga9DqcZ-"
      },
      "source": [
        "### 1 - Importe a biblioteca necessária para realizar as queries em SQL, importe também o pandas para visualização dos dados."
      ]
    },
    {
      "cell_type": "code",
      "metadata": {
        "id": "squyk6y1qcZ_"
      },
      "source": [
        "import sqlite3\n",
        "import pandas as pd"
      ],
      "execution_count": 142,
      "outputs": []
    },
    {
      "cell_type": "markdown",
      "metadata": {
        "id": "SjrmFaZVqcaA"
      },
      "source": [
        "### 2 - Realize a conexão com a base de dados 'olist_ecommerce.db' que se encontra na mesma pasta deste Notebook.\n",
        "Nomeie essa variável como **conn**, pois vai ser utilzada com essa nomenclatura na célula abaixo."
      ]
    },
    {
      "cell_type": "code",
      "metadata": {
        "id": "A_rkQoxLqcaA"
      },
      "source": [
        "conn = sqlite3.connect('olist_ecommerce_antiga.db')\n"
      ],
      "execution_count": 143,
      "outputs": []
    },
    {
      "cell_type": "markdown",
      "metadata": {
        "id": "x0ezNLhKqcaA"
      },
      "source": [
        "Criamos a função auxiliar abaixo que permitirá que você se preocupe apenas com a sintaxe de SQL, uma vez que o código em Python já está resolvido. \\\n",
        "Para utilizá-la, basta inserir o código como um argumento da função \\\n",
        "Ex:```consulta('SEU CODIGO EM SQL')```"
      ]
    },
    {
      "cell_type": "code",
      "metadata": {
        "id": "rhjEIX4GqcaB"
      },
      "source": [
        "def consulta(query):\n",
        "    cursor = conn.cursor()\n",
        "    consult = cursor.execute(query)\n",
        "    results = consult.fetchall()\n",
        "    cols = [column[0] for column in consult.description]\n",
        "    df = pd.DataFrame(results,columns=cols)\n",
        "    cursor.close()\n",
        "    return df"
      ],
      "execution_count": 144,
      "outputs": []
    },
    {
      "cell_type": "markdown",
      "metadata": {
        "id": "0_P6SEffqcaB"
      },
      "source": [
        "**Importante**: como é possível observar no código acima, a função já retorna os resultados da consulta como um DataFrame do pandas. Além disso, o código abaixo restringe a exibição a apenas 7 linhas para os DataFrames criados. Tal restrição é meramente estética e você pode alterá-la caso queira exibir mais linhas."
      ]
    },
    {
      "cell_type": "code",
      "metadata": {
        "id": "MoVnpSRjqcaB"
      },
      "source": [
        "pd.set_option(\"display.max_rows\",15)"
      ],
      "execution_count": 145,
      "outputs": []
    },
    {
      "cell_type": "markdown",
      "metadata": {
        "id": "HoUTQaoQqcaC"
      },
      "source": [
        "### 3 - Imprima na tela o nomes de todas as tabelas contidas na base de dados."
      ]
    },
    {
      "cell_type": "code",
      "metadata": {
        "id": "LlkLz5ltqcaC",
        "outputId": "ff150fee-e82f-42bc-986a-c337d0154cff",
        "colab": {
          "base_uri": "https://localhost:8080/",
          "height": 295
        }
      },
      "source": [
        "consulta('''SELECT name FROM sqlite_master WHERE type='table';''')"
      ],
      "execution_count": 146,
      "outputs": [
        {
          "output_type": "execute_result",
          "data": {
            "text/html": [
              "<div>\n",
              "<style scoped>\n",
              "    .dataframe tbody tr th:only-of-type {\n",
              "        vertical-align: middle;\n",
              "    }\n",
              "\n",
              "    .dataframe tbody tr th {\n",
              "        vertical-align: top;\n",
              "    }\n",
              "\n",
              "    .dataframe thead th {\n",
              "        text-align: right;\n",
              "    }\n",
              "</style>\n",
              "<table border=\"1\" class=\"dataframe\">\n",
              "  <thead>\n",
              "    <tr style=\"text-align: right;\">\n",
              "      <th></th>\n",
              "      <th>name</th>\n",
              "    </tr>\n",
              "  </thead>\n",
              "  <tbody>\n",
              "    <tr>\n",
              "      <th>0</th>\n",
              "      <td>olist_customers_dataset</td>\n",
              "    </tr>\n",
              "    <tr>\n",
              "      <th>1</th>\n",
              "      <td>olist_geolocation_dataset</td>\n",
              "    </tr>\n",
              "    <tr>\n",
              "      <th>2</th>\n",
              "      <td>olist_order_items_dataset</td>\n",
              "    </tr>\n",
              "    <tr>\n",
              "      <th>3</th>\n",
              "      <td>olist_order_payments_dataset</td>\n",
              "    </tr>\n",
              "    <tr>\n",
              "      <th>4</th>\n",
              "      <td>olist_order_reviews_dataset</td>\n",
              "    </tr>\n",
              "    <tr>\n",
              "      <th>5</th>\n",
              "      <td>olist_orders_dataset</td>\n",
              "    </tr>\n",
              "    <tr>\n",
              "      <th>6</th>\n",
              "      <td>olist_products_dataset</td>\n",
              "    </tr>\n",
              "    <tr>\n",
              "      <th>7</th>\n",
              "      <td>product_category_name_translation</td>\n",
              "    </tr>\n",
              "  </tbody>\n",
              "</table>\n",
              "</div>"
            ],
            "text/plain": [
              "                                name\n",
              "0            olist_customers_dataset\n",
              "1          olist_geolocation_dataset\n",
              "2          olist_order_items_dataset\n",
              "3       olist_order_payments_dataset\n",
              "4        olist_order_reviews_dataset\n",
              "5               olist_orders_dataset\n",
              "6             olist_products_dataset\n",
              "7  product_category_name_translation"
            ]
          },
          "metadata": {
            "tags": []
          },
          "execution_count": 146
        }
      ]
    },
    {
      "cell_type": "markdown",
      "metadata": {
        "id": "zy54_H92qcaD"
      },
      "source": [
        "### 4 - Descubra informações da tabela 'olist_orders_dataset' como os nomes das colunas, os tipos de dados em cada uma delas, etc."
      ]
    },
    {
      "cell_type": "code",
      "metadata": {
        "id": "OQZ9Ip7qqcaE",
        "outputId": "fc7814f7-5fa9-4700-fcfc-eb6650b14396",
        "colab": {
          "base_uri": "https://localhost:8080/",
          "height": 295
        }
      },
      "source": [
        "consulta('pragma table_info(olist_orders_dataset)')"
      ],
      "execution_count": 147,
      "outputs": [
        {
          "output_type": "execute_result",
          "data": {
            "text/html": [
              "<div>\n",
              "<style scoped>\n",
              "    .dataframe tbody tr th:only-of-type {\n",
              "        vertical-align: middle;\n",
              "    }\n",
              "\n",
              "    .dataframe tbody tr th {\n",
              "        vertical-align: top;\n",
              "    }\n",
              "\n",
              "    .dataframe thead th {\n",
              "        text-align: right;\n",
              "    }\n",
              "</style>\n",
              "<table border=\"1\" class=\"dataframe\">\n",
              "  <thead>\n",
              "    <tr style=\"text-align: right;\">\n",
              "      <th></th>\n",
              "      <th>cid</th>\n",
              "      <th>name</th>\n",
              "      <th>type</th>\n",
              "      <th>notnull</th>\n",
              "      <th>dflt_value</th>\n",
              "      <th>pk</th>\n",
              "    </tr>\n",
              "  </thead>\n",
              "  <tbody>\n",
              "    <tr>\n",
              "      <th>0</th>\n",
              "      <td>0</td>\n",
              "      <td>order_id</td>\n",
              "      <td>TEXT</td>\n",
              "      <td>0</td>\n",
              "      <td>None</td>\n",
              "      <td>0</td>\n",
              "    </tr>\n",
              "    <tr>\n",
              "      <th>1</th>\n",
              "      <td>1</td>\n",
              "      <td>customer_id</td>\n",
              "      <td>TEXT</td>\n",
              "      <td>0</td>\n",
              "      <td>None</td>\n",
              "      <td>0</td>\n",
              "    </tr>\n",
              "    <tr>\n",
              "      <th>2</th>\n",
              "      <td>2</td>\n",
              "      <td>order_status</td>\n",
              "      <td>TEXT</td>\n",
              "      <td>0</td>\n",
              "      <td>None</td>\n",
              "      <td>0</td>\n",
              "    </tr>\n",
              "    <tr>\n",
              "      <th>3</th>\n",
              "      <td>3</td>\n",
              "      <td>order_purchase_timestamp</td>\n",
              "      <td>TEXT</td>\n",
              "      <td>0</td>\n",
              "      <td>None</td>\n",
              "      <td>0</td>\n",
              "    </tr>\n",
              "    <tr>\n",
              "      <th>4</th>\n",
              "      <td>4</td>\n",
              "      <td>order_approved_at</td>\n",
              "      <td>TEXT</td>\n",
              "      <td>0</td>\n",
              "      <td>None</td>\n",
              "      <td>0</td>\n",
              "    </tr>\n",
              "    <tr>\n",
              "      <th>5</th>\n",
              "      <td>5</td>\n",
              "      <td>order_delivered_carrier_date</td>\n",
              "      <td>TEXT</td>\n",
              "      <td>0</td>\n",
              "      <td>None</td>\n",
              "      <td>0</td>\n",
              "    </tr>\n",
              "    <tr>\n",
              "      <th>6</th>\n",
              "      <td>6</td>\n",
              "      <td>order_delivered_customer_date</td>\n",
              "      <td>TEXT</td>\n",
              "      <td>0</td>\n",
              "      <td>None</td>\n",
              "      <td>0</td>\n",
              "    </tr>\n",
              "    <tr>\n",
              "      <th>7</th>\n",
              "      <td>7</td>\n",
              "      <td>order_estimated_delivery_date</td>\n",
              "      <td>TEXT</td>\n",
              "      <td>0</td>\n",
              "      <td>None</td>\n",
              "      <td>0</td>\n",
              "    </tr>\n",
              "  </tbody>\n",
              "</table>\n",
              "</div>"
            ],
            "text/plain": [
              "   cid                           name  type  notnull dflt_value  pk\n",
              "0    0                       order_id  TEXT        0       None   0\n",
              "1    1                    customer_id  TEXT        0       None   0\n",
              "2    2                   order_status  TEXT        0       None   0\n",
              "3    3       order_purchase_timestamp  TEXT        0       None   0\n",
              "4    4              order_approved_at  TEXT        0       None   0\n",
              "5    5   order_delivered_carrier_date  TEXT        0       None   0\n",
              "6    6  order_delivered_customer_date  TEXT        0       None   0\n",
              "7    7  order_estimated_delivery_date  TEXT        0       None   0"
            ]
          },
          "metadata": {
            "tags": []
          },
          "execution_count": 147
        }
      ]
    },
    {
      "cell_type": "markdown",
      "metadata": {
        "id": "L8iHoq54qcaE"
      },
      "source": [
        "### 5 - Selecione todos os dados da tabela 'olist_order_reviews_dataset'"
      ]
    },
    {
      "cell_type": "code",
      "metadata": {
        "scrolled": true,
        "id": "mNvgNgIpqcaE",
        "outputId": "a8fd011f-ebc9-4bec-86fc-1524973527d1",
        "colab": {
          "base_uri": "https://localhost:8080/",
          "height": 521
        }
      },
      "source": [
        "consulta('SELECT * FROM olist_order_reviews_dataset')"
      ],
      "execution_count": 148,
      "outputs": [
        {
          "output_type": "execute_result",
          "data": {
            "text/html": [
              "<div>\n",
              "<style scoped>\n",
              "    .dataframe tbody tr th:only-of-type {\n",
              "        vertical-align: middle;\n",
              "    }\n",
              "\n",
              "    .dataframe tbody tr th {\n",
              "        vertical-align: top;\n",
              "    }\n",
              "\n",
              "    .dataframe thead th {\n",
              "        text-align: right;\n",
              "    }\n",
              "</style>\n",
              "<table border=\"1\" class=\"dataframe\">\n",
              "  <thead>\n",
              "    <tr style=\"text-align: right;\">\n",
              "      <th></th>\n",
              "      <th>review_id</th>\n",
              "      <th>order_id</th>\n",
              "      <th>review_score</th>\n",
              "      <th>review_comment_title</th>\n",
              "      <th>review_comment_message</th>\n",
              "      <th>review_creation_date</th>\n",
              "      <th>review_answer_timestamp</th>\n",
              "    </tr>\n",
              "  </thead>\n",
              "  <tbody>\n",
              "    <tr>\n",
              "      <th>0</th>\n",
              "      <td>7bc2406110b926393aa56f80a40eba40</td>\n",
              "      <td>73fc7af87114b39712e6da79b0a377eb</td>\n",
              "      <td>4</td>\n",
              "      <td>None</td>\n",
              "      <td>None</td>\n",
              "      <td>2018-01-18 00:00:00</td>\n",
              "      <td>2018-01-18 21:46:59</td>\n",
              "    </tr>\n",
              "    <tr>\n",
              "      <th>1</th>\n",
              "      <td>80e641a11e56f04c1ad469d5645fdfde</td>\n",
              "      <td>a548910a1c6147796b98fdf73dbeba33</td>\n",
              "      <td>5</td>\n",
              "      <td>None</td>\n",
              "      <td>None</td>\n",
              "      <td>2018-03-10 00:00:00</td>\n",
              "      <td>2018-03-11 03:05:13</td>\n",
              "    </tr>\n",
              "    <tr>\n",
              "      <th>2</th>\n",
              "      <td>228ce5500dc1d8e020d8d1322874b6f0</td>\n",
              "      <td>f9e4b658b201a9f2ecdecbb34bed034b</td>\n",
              "      <td>5</td>\n",
              "      <td>None</td>\n",
              "      <td>None</td>\n",
              "      <td>2018-02-17 00:00:00</td>\n",
              "      <td>2018-02-18 14:36:24</td>\n",
              "    </tr>\n",
              "    <tr>\n",
              "      <th>3</th>\n",
              "      <td>e64fb393e7b32834bb789ff8bb30750e</td>\n",
              "      <td>658677c97b385a9be170737859d3511b</td>\n",
              "      <td>5</td>\n",
              "      <td>None</td>\n",
              "      <td>Recebi bem antes do prazo estipulado.</td>\n",
              "      <td>2017-04-21 00:00:00</td>\n",
              "      <td>2017-04-21 22:02:06</td>\n",
              "    </tr>\n",
              "    <tr>\n",
              "      <th>4</th>\n",
              "      <td>f7c4243c7fe1938f181bec41a392bdeb</td>\n",
              "      <td>8e6bfb81e283fa7e4f11123a3fb894f1</td>\n",
              "      <td>5</td>\n",
              "      <td>None</td>\n",
              "      <td>Parabéns lojas lannister adorei comprar pela I...</td>\n",
              "      <td>2018-03-01 00:00:00</td>\n",
              "      <td>2018-03-02 10:26:53</td>\n",
              "    </tr>\n",
              "    <tr>\n",
              "      <th>...</th>\n",
              "      <td>...</td>\n",
              "      <td>...</td>\n",
              "      <td>...</td>\n",
              "      <td>...</td>\n",
              "      <td>...</td>\n",
              "      <td>...</td>\n",
              "      <td>...</td>\n",
              "    </tr>\n",
              "    <tr>\n",
              "      <th>99995</th>\n",
              "      <td>f3897127253a9592a73be9bdfdf4ed7a</td>\n",
              "      <td>22ec9f0669f784db00fa86d035cf8602</td>\n",
              "      <td>5</td>\n",
              "      <td>None</td>\n",
              "      <td>None</td>\n",
              "      <td>2017-12-09 00:00:00</td>\n",
              "      <td>2017-12-11 20:06:42</td>\n",
              "    </tr>\n",
              "    <tr>\n",
              "      <th>99996</th>\n",
              "      <td>b3de70c89b1510c4cd3d0649fd302472</td>\n",
              "      <td>55d4004744368f5571d1f590031933e4</td>\n",
              "      <td>5</td>\n",
              "      <td>None</td>\n",
              "      <td>Excelente mochila, entrega super rápida. Super...</td>\n",
              "      <td>2018-03-22 00:00:00</td>\n",
              "      <td>2018-03-23 09:10:43</td>\n",
              "    </tr>\n",
              "    <tr>\n",
              "      <th>99997</th>\n",
              "      <td>1adeb9d84d72fe4e337617733eb85149</td>\n",
              "      <td>7725825d039fc1f0ceb7635e3f7d9206</td>\n",
              "      <td>4</td>\n",
              "      <td>None</td>\n",
              "      <td>None</td>\n",
              "      <td>2018-07-01 00:00:00</td>\n",
              "      <td>2018-07-02 12:59:13</td>\n",
              "    </tr>\n",
              "    <tr>\n",
              "      <th>99998</th>\n",
              "      <td>be360f18f5df1e0541061c87021e6d93</td>\n",
              "      <td>f8bd3f2000c28c5342fedeb5e50f2e75</td>\n",
              "      <td>1</td>\n",
              "      <td>None</td>\n",
              "      <td>Solicitei a compra de uma capa de retrovisor c...</td>\n",
              "      <td>2017-12-15 00:00:00</td>\n",
              "      <td>2017-12-16 01:29:43</td>\n",
              "    </tr>\n",
              "    <tr>\n",
              "      <th>99999</th>\n",
              "      <td>efe49f1d6f951dd88b51e6ccd4cc548f</td>\n",
              "      <td>90531360ecb1eec2a1fbb265a0db0508</td>\n",
              "      <td>1</td>\n",
              "      <td>None</td>\n",
              "      <td>meu produto chegou e ja tenho que devolver, po...</td>\n",
              "      <td>2017-07-03 00:00:00</td>\n",
              "      <td>2017-07-03 21:01:49</td>\n",
              "    </tr>\n",
              "  </tbody>\n",
              "</table>\n",
              "<p>100000 rows × 7 columns</p>\n",
              "</div>"
            ],
            "text/plain": [
              "                              review_id  ... review_answer_timestamp\n",
              "0      7bc2406110b926393aa56f80a40eba40  ...     2018-01-18 21:46:59\n",
              "1      80e641a11e56f04c1ad469d5645fdfde  ...     2018-03-11 03:05:13\n",
              "2      228ce5500dc1d8e020d8d1322874b6f0  ...     2018-02-18 14:36:24\n",
              "3      e64fb393e7b32834bb789ff8bb30750e  ...     2017-04-21 22:02:06\n",
              "4      f7c4243c7fe1938f181bec41a392bdeb  ...     2018-03-02 10:26:53\n",
              "...                                 ...  ...                     ...\n",
              "99995  f3897127253a9592a73be9bdfdf4ed7a  ...     2017-12-11 20:06:42\n",
              "99996  b3de70c89b1510c4cd3d0649fd302472  ...     2018-03-23 09:10:43\n",
              "99997  1adeb9d84d72fe4e337617733eb85149  ...     2018-07-02 12:59:13\n",
              "99998  be360f18f5df1e0541061c87021e6d93  ...     2017-12-16 01:29:43\n",
              "99999  efe49f1d6f951dd88b51e6ccd4cc548f  ...     2017-07-03 21:01:49\n",
              "\n",
              "[100000 rows x 7 columns]"
            ]
          },
          "metadata": {
            "tags": []
          },
          "execution_count": 148
        }
      ]
    },
    {
      "cell_type": "markdown",
      "metadata": {
        "id": "NYViWp2hqcaF"
      },
      "source": [
        "### 6 - Selecione todos os dados da tabela 'olist_order_reviews_dataset' que tenham o score igual a 5"
      ]
    },
    {
      "cell_type": "code",
      "metadata": {
        "id": "Foxd_HhGqcaG",
        "outputId": "fb09497b-8e8b-4bfd-a5e1-42ffafc45e39",
        "colab": {
          "base_uri": "https://localhost:8080/",
          "height": 487
        }
      },
      "source": [
        "consulta('''SELECT  * from olist_order_reviews_dataset\n",
        "             where review_score=5 \n",
        "            ''')"
      ],
      "execution_count": 149,
      "outputs": [
        {
          "output_type": "execute_result",
          "data": {
            "text/html": [
              "<div>\n",
              "<style scoped>\n",
              "    .dataframe tbody tr th:only-of-type {\n",
              "        vertical-align: middle;\n",
              "    }\n",
              "\n",
              "    .dataframe tbody tr th {\n",
              "        vertical-align: top;\n",
              "    }\n",
              "\n",
              "    .dataframe thead th {\n",
              "        text-align: right;\n",
              "    }\n",
              "</style>\n",
              "<table border=\"1\" class=\"dataframe\">\n",
              "  <thead>\n",
              "    <tr style=\"text-align: right;\">\n",
              "      <th></th>\n",
              "      <th>review_id</th>\n",
              "      <th>order_id</th>\n",
              "      <th>review_score</th>\n",
              "      <th>review_comment_title</th>\n",
              "      <th>review_comment_message</th>\n",
              "      <th>review_creation_date</th>\n",
              "      <th>review_answer_timestamp</th>\n",
              "    </tr>\n",
              "  </thead>\n",
              "  <tbody>\n",
              "    <tr>\n",
              "      <th>0</th>\n",
              "      <td>80e641a11e56f04c1ad469d5645fdfde</td>\n",
              "      <td>a548910a1c6147796b98fdf73dbeba33</td>\n",
              "      <td>5</td>\n",
              "      <td>None</td>\n",
              "      <td>None</td>\n",
              "      <td>2018-03-10 00:00:00</td>\n",
              "      <td>2018-03-11 03:05:13</td>\n",
              "    </tr>\n",
              "    <tr>\n",
              "      <th>1</th>\n",
              "      <td>228ce5500dc1d8e020d8d1322874b6f0</td>\n",
              "      <td>f9e4b658b201a9f2ecdecbb34bed034b</td>\n",
              "      <td>5</td>\n",
              "      <td>None</td>\n",
              "      <td>None</td>\n",
              "      <td>2018-02-17 00:00:00</td>\n",
              "      <td>2018-02-18 14:36:24</td>\n",
              "    </tr>\n",
              "    <tr>\n",
              "      <th>2</th>\n",
              "      <td>e64fb393e7b32834bb789ff8bb30750e</td>\n",
              "      <td>658677c97b385a9be170737859d3511b</td>\n",
              "      <td>5</td>\n",
              "      <td>None</td>\n",
              "      <td>Recebi bem antes do prazo estipulado.</td>\n",
              "      <td>2017-04-21 00:00:00</td>\n",
              "      <td>2017-04-21 22:02:06</td>\n",
              "    </tr>\n",
              "    <tr>\n",
              "      <th>3</th>\n",
              "      <td>f7c4243c7fe1938f181bec41a392bdeb</td>\n",
              "      <td>8e6bfb81e283fa7e4f11123a3fb894f1</td>\n",
              "      <td>5</td>\n",
              "      <td>None</td>\n",
              "      <td>Parabéns lojas lannister adorei comprar pela I...</td>\n",
              "      <td>2018-03-01 00:00:00</td>\n",
              "      <td>2018-03-02 10:26:53</td>\n",
              "    </tr>\n",
              "    <tr>\n",
              "      <th>4</th>\n",
              "      <td>07f9bee5d1b850860defd761afa7ff16</td>\n",
              "      <td>e48aa0d2dcec3a2e87348811bcfdf22b</td>\n",
              "      <td>5</td>\n",
              "      <td>None</td>\n",
              "      <td>None</td>\n",
              "      <td>2017-07-16 00:00:00</td>\n",
              "      <td>2017-07-18 19:30:34</td>\n",
              "    </tr>\n",
              "    <tr>\n",
              "      <th>...</th>\n",
              "      <td>...</td>\n",
              "      <td>...</td>\n",
              "      <td>...</td>\n",
              "      <td>...</td>\n",
              "      <td>...</td>\n",
              "      <td>...</td>\n",
              "      <td>...</td>\n",
              "    </tr>\n",
              "    <tr>\n",
              "      <th>57415</th>\n",
              "      <td>c6b270c61f67c9f7cb07d84ea8aeaf8b</td>\n",
              "      <td>48f7ee67313eda32bfcf5b9c1dd9522d</td>\n",
              "      <td>5</td>\n",
              "      <td>None</td>\n",
              "      <td>None</td>\n",
              "      <td>2017-12-13 00:00:00</td>\n",
              "      <td>2017-12-14 11:09:36</td>\n",
              "    </tr>\n",
              "    <tr>\n",
              "      <th>57416</th>\n",
              "      <td>af2dc0519de6e0720ef0c74292fb4114</td>\n",
              "      <td>d699c734a0b1c8111f2272a3f36d398c</td>\n",
              "      <td>5</td>\n",
              "      <td>None</td>\n",
              "      <td>None</td>\n",
              "      <td>2018-04-27 00:00:00</td>\n",
              "      <td>2018-04-30 01:18:57</td>\n",
              "    </tr>\n",
              "    <tr>\n",
              "      <th>57417</th>\n",
              "      <td>574ed12dd733e5fa530cfd4bbf39d7c9</td>\n",
              "      <td>2a8c23fee101d4d5662fa670396eb8da</td>\n",
              "      <td>5</td>\n",
              "      <td>None</td>\n",
              "      <td>None</td>\n",
              "      <td>2018-07-07 00:00:00</td>\n",
              "      <td>2018-07-14 17:18:30</td>\n",
              "    </tr>\n",
              "    <tr>\n",
              "      <th>57418</th>\n",
              "      <td>f3897127253a9592a73be9bdfdf4ed7a</td>\n",
              "      <td>22ec9f0669f784db00fa86d035cf8602</td>\n",
              "      <td>5</td>\n",
              "      <td>None</td>\n",
              "      <td>None</td>\n",
              "      <td>2017-12-09 00:00:00</td>\n",
              "      <td>2017-12-11 20:06:42</td>\n",
              "    </tr>\n",
              "    <tr>\n",
              "      <th>57419</th>\n",
              "      <td>b3de70c89b1510c4cd3d0649fd302472</td>\n",
              "      <td>55d4004744368f5571d1f590031933e4</td>\n",
              "      <td>5</td>\n",
              "      <td>None</td>\n",
              "      <td>Excelente mochila, entrega super rápida. Super...</td>\n",
              "      <td>2018-03-22 00:00:00</td>\n",
              "      <td>2018-03-23 09:10:43</td>\n",
              "    </tr>\n",
              "  </tbody>\n",
              "</table>\n",
              "<p>57420 rows × 7 columns</p>\n",
              "</div>"
            ],
            "text/plain": [
              "                              review_id  ... review_answer_timestamp\n",
              "0      80e641a11e56f04c1ad469d5645fdfde  ...     2018-03-11 03:05:13\n",
              "1      228ce5500dc1d8e020d8d1322874b6f0  ...     2018-02-18 14:36:24\n",
              "2      e64fb393e7b32834bb789ff8bb30750e  ...     2017-04-21 22:02:06\n",
              "3      f7c4243c7fe1938f181bec41a392bdeb  ...     2018-03-02 10:26:53\n",
              "4      07f9bee5d1b850860defd761afa7ff16  ...     2017-07-18 19:30:34\n",
              "...                                 ...  ...                     ...\n",
              "57415  c6b270c61f67c9f7cb07d84ea8aeaf8b  ...     2017-12-14 11:09:36\n",
              "57416  af2dc0519de6e0720ef0c74292fb4114  ...     2018-04-30 01:18:57\n",
              "57417  574ed12dd733e5fa530cfd4bbf39d7c9  ...     2018-07-14 17:18:30\n",
              "57418  f3897127253a9592a73be9bdfdf4ed7a  ...     2017-12-11 20:06:42\n",
              "57419  b3de70c89b1510c4cd3d0649fd302472  ...     2018-03-23 09:10:43\n",
              "\n",
              "[57420 rows x 7 columns]"
            ]
          },
          "metadata": {
            "tags": []
          },
          "execution_count": 149
        }
      ]
    },
    {
      "cell_type": "markdown",
      "metadata": {
        "id": "EjOVwkA2qcaH"
      },
      "source": [
        "### 7 - Selecione todos os pagamentos da 'olist_order_payments_dataset' que foram realizados com cartão de crédito e possuem um valor acima de R$500."
      ]
    },
    {
      "cell_type": "code",
      "metadata": {
        "id": "Mh8l5HoLqcaH",
        "outputId": "31bbe8a0-7081-497a-9028-a220cd0fbe39",
        "colab": {
          "base_uri": "https://localhost:8080/",
          "height": 417
        }
      },
      "source": [
        "consulta('''SELECT * from olist_order_payments_dataset \n",
        "             WHERE payment_value >500 \n",
        "             and payment_type = \"credit_card\"''')"
      ],
      "execution_count": 150,
      "outputs": [
        {
          "output_type": "execute_result",
          "data": {
            "text/html": [
              "<div>\n",
              "<style scoped>\n",
              "    .dataframe tbody tr th:only-of-type {\n",
              "        vertical-align: middle;\n",
              "    }\n",
              "\n",
              "    .dataframe tbody tr th {\n",
              "        vertical-align: top;\n",
              "    }\n",
              "\n",
              "    .dataframe thead th {\n",
              "        text-align: right;\n",
              "    }\n",
              "</style>\n",
              "<table border=\"1\" class=\"dataframe\">\n",
              "  <thead>\n",
              "    <tr style=\"text-align: right;\">\n",
              "      <th></th>\n",
              "      <th>order_id</th>\n",
              "      <th>payment_sequential</th>\n",
              "      <th>payment_type</th>\n",
              "      <th>payment_installments</th>\n",
              "      <th>payment_value</th>\n",
              "    </tr>\n",
              "  </thead>\n",
              "  <tbody>\n",
              "    <tr>\n",
              "      <th>0</th>\n",
              "      <td>d0a945f85ba1074b60aac97ade7e240e</td>\n",
              "      <td>1</td>\n",
              "      <td>credit_card</td>\n",
              "      <td>2</td>\n",
              "      <td>541.00</td>\n",
              "    </tr>\n",
              "    <tr>\n",
              "      <th>1</th>\n",
              "      <td>2e2c60b99754ae1e4d8b18846cfec9f2</td>\n",
              "      <td>1</td>\n",
              "      <td>credit_card</td>\n",
              "      <td>4</td>\n",
              "      <td>542.66</td>\n",
              "    </tr>\n",
              "    <tr>\n",
              "      <th>2</th>\n",
              "      <td>110d9355d6338eab0a65a0cacdde5434</td>\n",
              "      <td>1</td>\n",
              "      <td>credit_card</td>\n",
              "      <td>5</td>\n",
              "      <td>566.40</td>\n",
              "    </tr>\n",
              "    <tr>\n",
              "      <th>3</th>\n",
              "      <td>886b114d034f4ac1d39d964c1b2a8182</td>\n",
              "      <td>1</td>\n",
              "      <td>credit_card</td>\n",
              "      <td>10</td>\n",
              "      <td>2027.16</td>\n",
              "    </tr>\n",
              "    <tr>\n",
              "      <th>4</th>\n",
              "      <td>62d9b911d7c56cf455f660eecb8ddd3a</td>\n",
              "      <td>1</td>\n",
              "      <td>credit_card</td>\n",
              "      <td>10</td>\n",
              "      <td>1002.73</td>\n",
              "    </tr>\n",
              "    <tr>\n",
              "      <th>...</th>\n",
              "      <td>...</td>\n",
              "      <td>...</td>\n",
              "      <td>...</td>\n",
              "      <td>...</td>\n",
              "      <td>...</td>\n",
              "    </tr>\n",
              "    <tr>\n",
              "      <th>3483</th>\n",
              "      <td>fc20b8e282da6f3fbcdd3a3cedecb723</td>\n",
              "      <td>1</td>\n",
              "      <td>credit_card</td>\n",
              "      <td>10</td>\n",
              "      <td>3782.19</td>\n",
              "    </tr>\n",
              "    <tr>\n",
              "      <th>3484</th>\n",
              "      <td>fb2dccfadca8cd6ebddc5d10ae48d1f7</td>\n",
              "      <td>1</td>\n",
              "      <td>credit_card</td>\n",
              "      <td>3</td>\n",
              "      <td>1134.44</td>\n",
              "    </tr>\n",
              "    <tr>\n",
              "      <th>3485</th>\n",
              "      <td>4198c92e06d92792e49f119f659e723e</td>\n",
              "      <td>1</td>\n",
              "      <td>credit_card</td>\n",
              "      <td>10</td>\n",
              "      <td>1294.26</td>\n",
              "    </tr>\n",
              "    <tr>\n",
              "      <th>3486</th>\n",
              "      <td>0f121110b75ef7c38c79d67833c49830</td>\n",
              "      <td>1</td>\n",
              "      <td>credit_card</td>\n",
              "      <td>10</td>\n",
              "      <td>956.86</td>\n",
              "    </tr>\n",
              "    <tr>\n",
              "      <th>3487</th>\n",
              "      <td>df8ab61cb615d551483618533aceb364</td>\n",
              "      <td>1</td>\n",
              "      <td>credit_card</td>\n",
              "      <td>10</td>\n",
              "      <td>713.65</td>\n",
              "    </tr>\n",
              "  </tbody>\n",
              "</table>\n",
              "<p>3488 rows × 5 columns</p>\n",
              "</div>"
            ],
            "text/plain": [
              "                              order_id  ...  payment_value\n",
              "0     d0a945f85ba1074b60aac97ade7e240e  ...         541.00\n",
              "1     2e2c60b99754ae1e4d8b18846cfec9f2  ...         542.66\n",
              "2     110d9355d6338eab0a65a0cacdde5434  ...         566.40\n",
              "3     886b114d034f4ac1d39d964c1b2a8182  ...        2027.16\n",
              "4     62d9b911d7c56cf455f660eecb8ddd3a  ...        1002.73\n",
              "...                                ...  ...            ...\n",
              "3483  fc20b8e282da6f3fbcdd3a3cedecb723  ...        3782.19\n",
              "3484  fb2dccfadca8cd6ebddc5d10ae48d1f7  ...        1134.44\n",
              "3485  4198c92e06d92792e49f119f659e723e  ...        1294.26\n",
              "3486  0f121110b75ef7c38c79d67833c49830  ...         956.86\n",
              "3487  df8ab61cb615d551483618533aceb364  ...         713.65\n",
              "\n",
              "[3488 rows x 5 columns]"
            ]
          },
          "metadata": {
            "tags": []
          },
          "execution_count": 150
        }
      ]
    },
    {
      "cell_type": "markdown",
      "metadata": {
        "id": "NRKUv-K_qcaI"
      },
      "source": [
        "### 8 - Selecione os 5 valores mais altos transacionados por cartão de crédito da 'olist_order_payments_dataset' e oredene-os de forma decrescente."
      ]
    },
    {
      "cell_type": "code",
      "metadata": {
        "id": "ejD8gOzdqcaI",
        "outputId": "41b82343-45d5-49c1-868b-73ab801c0905",
        "colab": {
          "base_uri": "https://localhost:8080/",
          "height": 203
        }
      },
      "source": [
        "consulta('''SELECT * from olist_order_payments_dataset \n",
        "            WHERE payment_type = \"credit_card\"\n",
        "            ORDER BY payment_value DESC\n",
        "            LIMIT 5''')"
      ],
      "execution_count": 151,
      "outputs": [
        {
          "output_type": "execute_result",
          "data": {
            "text/html": [
              "<div>\n",
              "<style scoped>\n",
              "    .dataframe tbody tr th:only-of-type {\n",
              "        vertical-align: middle;\n",
              "    }\n",
              "\n",
              "    .dataframe tbody tr th {\n",
              "        vertical-align: top;\n",
              "    }\n",
              "\n",
              "    .dataframe thead th {\n",
              "        text-align: right;\n",
              "    }\n",
              "</style>\n",
              "<table border=\"1\" class=\"dataframe\">\n",
              "  <thead>\n",
              "    <tr style=\"text-align: right;\">\n",
              "      <th></th>\n",
              "      <th>order_id</th>\n",
              "      <th>payment_sequential</th>\n",
              "      <th>payment_type</th>\n",
              "      <th>payment_installments</th>\n",
              "      <th>payment_value</th>\n",
              "    </tr>\n",
              "  </thead>\n",
              "  <tbody>\n",
              "    <tr>\n",
              "      <th>0</th>\n",
              "      <td>03caa2c082116e1d31e67e9ae3700499</td>\n",
              "      <td>1</td>\n",
              "      <td>credit_card</td>\n",
              "      <td>1</td>\n",
              "      <td>13664.08</td>\n",
              "    </tr>\n",
              "    <tr>\n",
              "      <th>1</th>\n",
              "      <td>0812eb902a67711a1cb742b3cdaa65ae</td>\n",
              "      <td>1</td>\n",
              "      <td>credit_card</td>\n",
              "      <td>8</td>\n",
              "      <td>6929.31</td>\n",
              "    </tr>\n",
              "    <tr>\n",
              "      <th>2</th>\n",
              "      <td>a96610ab360d42a2e5335a3998b4718a</td>\n",
              "      <td>1</td>\n",
              "      <td>credit_card</td>\n",
              "      <td>10</td>\n",
              "      <td>4950.34</td>\n",
              "    </tr>\n",
              "    <tr>\n",
              "      <th>3</th>\n",
              "      <td>b4c4b76c642808cbe472a32b86cddc95</td>\n",
              "      <td>1</td>\n",
              "      <td>credit_card</td>\n",
              "      <td>5</td>\n",
              "      <td>4809.44</td>\n",
              "    </tr>\n",
              "    <tr>\n",
              "      <th>4</th>\n",
              "      <td>199af31afc78c699f0dbf71fb178d4d4</td>\n",
              "      <td>1</td>\n",
              "      <td>credit_card</td>\n",
              "      <td>8</td>\n",
              "      <td>4764.34</td>\n",
              "    </tr>\n",
              "  </tbody>\n",
              "</table>\n",
              "</div>"
            ],
            "text/plain": [
              "                           order_id  ...  payment_value\n",
              "0  03caa2c082116e1d31e67e9ae3700499  ...       13664.08\n",
              "1  0812eb902a67711a1cb742b3cdaa65ae  ...        6929.31\n",
              "2  a96610ab360d42a2e5335a3998b4718a  ...        4950.34\n",
              "3  b4c4b76c642808cbe472a32b86cddc95  ...        4809.44\n",
              "4  199af31afc78c699f0dbf71fb178d4d4  ...        4764.34\n",
              "\n",
              "[5 rows x 5 columns]"
            ]
          },
          "metadata": {
            "tags": []
          },
          "execution_count": 151
        }
      ]
    },
    {
      "cell_type": "markdown",
      "metadata": {
        "id": "oNGKVArwqcaJ"
      },
      "source": [
        "### 9 - Selecione as cidades e os estados responsáveis pelos 10 valores mais altos da 'olist_order_payments_dataset'. Se quiser, mostre também os valores transacionados."
      ]
    },
    {
      "cell_type": "code",
      "metadata": {
        "scrolled": true,
        "id": "TGDQGxLZqcaJ",
        "outputId": "778fd60a-7227-40e5-b4be-ae1aa6d9099f",
        "colab": {
          "base_uri": "https://localhost:8080/",
          "height": 357
        }
      },
      "source": [
        "consulta('''\n",
        "         SELECT \n",
        "         a.payment_value,\n",
        "         c.customer_city,\n",
        "         c.customer_state\n",
        "         FROM olist_order_payments_dataset a\n",
        "         INNER JOIN olist_orders_dataset b ON a.order_id = b.order_id\n",
        "         INNER JOIN olist_customers_dataset c ON b.customer_id = c.customer_id\n",
        "         ORDER BY a.payment_value DESC\n",
        "         LIMIT 10\n",
        "         ''')\n",
        "        \n",
        "        "
      ],
      "execution_count": 152,
      "outputs": [
        {
          "output_type": "execute_result",
          "data": {
            "text/html": [
              "<div>\n",
              "<style scoped>\n",
              "    .dataframe tbody tr th:only-of-type {\n",
              "        vertical-align: middle;\n",
              "    }\n",
              "\n",
              "    .dataframe tbody tr th {\n",
              "        vertical-align: top;\n",
              "    }\n",
              "\n",
              "    .dataframe thead th {\n",
              "        text-align: right;\n",
              "    }\n",
              "</style>\n",
              "<table border=\"1\" class=\"dataframe\">\n",
              "  <thead>\n",
              "    <tr style=\"text-align: right;\">\n",
              "      <th></th>\n",
              "      <th>payment_value</th>\n",
              "      <th>customer_city</th>\n",
              "      <th>customer_state</th>\n",
              "    </tr>\n",
              "  </thead>\n",
              "  <tbody>\n",
              "    <tr>\n",
              "      <th>0</th>\n",
              "      <td>13664.08</td>\n",
              "      <td>rio de janeiro</td>\n",
              "      <td>RJ</td>\n",
              "    </tr>\n",
              "    <tr>\n",
              "      <th>1</th>\n",
              "      <td>7274.88</td>\n",
              "      <td>vila velha</td>\n",
              "      <td>ES</td>\n",
              "    </tr>\n",
              "    <tr>\n",
              "      <th>2</th>\n",
              "      <td>6929.31</td>\n",
              "      <td>campo grande</td>\n",
              "      <td>MS</td>\n",
              "    </tr>\n",
              "    <tr>\n",
              "      <th>3</th>\n",
              "      <td>6922.21</td>\n",
              "      <td>vitoria</td>\n",
              "      <td>ES</td>\n",
              "    </tr>\n",
              "    <tr>\n",
              "      <th>4</th>\n",
              "      <td>6726.66</td>\n",
              "      <td>marilia</td>\n",
              "      <td>SP</td>\n",
              "    </tr>\n",
              "    <tr>\n",
              "      <th>5</th>\n",
              "      <td>6081.54</td>\n",
              "      <td>divinopolis</td>\n",
              "      <td>MG</td>\n",
              "    </tr>\n",
              "    <tr>\n",
              "      <th>6</th>\n",
              "      <td>4950.34</td>\n",
              "      <td>araruama</td>\n",
              "      <td>RJ</td>\n",
              "    </tr>\n",
              "    <tr>\n",
              "      <th>7</th>\n",
              "      <td>4809.44</td>\n",
              "      <td>goiania</td>\n",
              "      <td>GO</td>\n",
              "    </tr>\n",
              "    <tr>\n",
              "      <th>8</th>\n",
              "      <td>4764.34</td>\n",
              "      <td>maua</td>\n",
              "      <td>SP</td>\n",
              "    </tr>\n",
              "    <tr>\n",
              "      <th>9</th>\n",
              "      <td>4681.78</td>\n",
              "      <td>joao pessoa</td>\n",
              "      <td>PB</td>\n",
              "    </tr>\n",
              "  </tbody>\n",
              "</table>\n",
              "</div>"
            ],
            "text/plain": [
              "   payment_value   customer_city customer_state\n",
              "0       13664.08  rio de janeiro             RJ\n",
              "1        7274.88      vila velha             ES\n",
              "2        6929.31    campo grande             MS\n",
              "3        6922.21         vitoria             ES\n",
              "4        6726.66         marilia             SP\n",
              "5        6081.54     divinopolis             MG\n",
              "6        4950.34        araruama             RJ\n",
              "7        4809.44         goiania             GO\n",
              "8        4764.34            maua             SP\n",
              "9        4681.78     joao pessoa             PB"
            ]
          },
          "metadata": {
            "tags": []
          },
          "execution_count": 152
        }
      ]
    },
    {
      "cell_type": "markdown",
      "metadata": {
        "id": "ZR--1jeoqcaJ"
      },
      "source": [
        "### 10  - Faça um agrupamento que mostre os estados que mais gastaram de acordo com a presente base de dados e disponha-os na tela em ordem decrescente de acordo com seus gastos."
      ]
    },
    {
      "cell_type": "code",
      "metadata": {
        "id": "MhRos-M8qcaJ",
        "outputId": "310ce17e-1490-4a08-f6a0-f01b9561ad12",
        "colab": {
          "base_uri": "https://localhost:8080/",
          "height": 417
        }
      },
      "source": [
        "consulta('''\n",
        "         SELECT \n",
        "         c.customer_state,\n",
        "         sum(a.payment_value) as soma\n",
        "         FROM olist_order_payments_dataset a\n",
        "         INNER JOIN olist_orders_dataset b ON a.order_id = b.order_id\n",
        "         INNER JOIN olist_customers_dataset c ON b.customer_id = c.customer_id\n",
        "         GROUP BY 1\n",
        "         ORDER BY 2 DESC\n",
        "         ''')"
      ],
      "execution_count": 153,
      "outputs": [
        {
          "output_type": "execute_result",
          "data": {
            "text/html": [
              "<div>\n",
              "<style scoped>\n",
              "    .dataframe tbody tr th:only-of-type {\n",
              "        vertical-align: middle;\n",
              "    }\n",
              "\n",
              "    .dataframe tbody tr th {\n",
              "        vertical-align: top;\n",
              "    }\n",
              "\n",
              "    .dataframe thead th {\n",
              "        text-align: right;\n",
              "    }\n",
              "</style>\n",
              "<table border=\"1\" class=\"dataframe\">\n",
              "  <thead>\n",
              "    <tr style=\"text-align: right;\">\n",
              "      <th></th>\n",
              "      <th>customer_state</th>\n",
              "      <th>soma</th>\n",
              "    </tr>\n",
              "  </thead>\n",
              "  <tbody>\n",
              "    <tr>\n",
              "      <th>0</th>\n",
              "      <td>SP</td>\n",
              "      <td>5998226.96</td>\n",
              "    </tr>\n",
              "    <tr>\n",
              "      <th>1</th>\n",
              "      <td>RJ</td>\n",
              "      <td>2144379.69</td>\n",
              "    </tr>\n",
              "    <tr>\n",
              "      <th>2</th>\n",
              "      <td>MG</td>\n",
              "      <td>1872257.26</td>\n",
              "    </tr>\n",
              "    <tr>\n",
              "      <th>3</th>\n",
              "      <td>RS</td>\n",
              "      <td>890898.54</td>\n",
              "    </tr>\n",
              "    <tr>\n",
              "      <th>4</th>\n",
              "      <td>PR</td>\n",
              "      <td>811156.38</td>\n",
              "    </tr>\n",
              "    <tr>\n",
              "      <th>...</th>\n",
              "      <td>...</td>\n",
              "      <td>...</td>\n",
              "    </tr>\n",
              "    <tr>\n",
              "      <th>22</th>\n",
              "      <td>RO</td>\n",
              "      <td>60866.20</td>\n",
              "    </tr>\n",
              "    <tr>\n",
              "      <th>23</th>\n",
              "      <td>AM</td>\n",
              "      <td>27966.93</td>\n",
              "    </tr>\n",
              "    <tr>\n",
              "      <th>24</th>\n",
              "      <td>AC</td>\n",
              "      <td>19680.62</td>\n",
              "    </tr>\n",
              "    <tr>\n",
              "      <th>25</th>\n",
              "      <td>AP</td>\n",
              "      <td>16262.80</td>\n",
              "    </tr>\n",
              "    <tr>\n",
              "      <th>26</th>\n",
              "      <td>RR</td>\n",
              "      <td>10064.62</td>\n",
              "    </tr>\n",
              "  </tbody>\n",
              "</table>\n",
              "<p>27 rows × 2 columns</p>\n",
              "</div>"
            ],
            "text/plain": [
              "   customer_state        soma\n",
              "0              SP  5998226.96\n",
              "1              RJ  2144379.69\n",
              "2              MG  1872257.26\n",
              "3              RS   890898.54\n",
              "4              PR   811156.38\n",
              "..            ...         ...\n",
              "22             RO    60866.20\n",
              "23             AM    27966.93\n",
              "24             AC    19680.62\n",
              "25             AP    16262.80\n",
              "26             RR    10064.62\n",
              "\n",
              "[27 rows x 2 columns]"
            ]
          },
          "metadata": {
            "tags": []
          },
          "execution_count": 153
        }
      ]
    }
  ]
}